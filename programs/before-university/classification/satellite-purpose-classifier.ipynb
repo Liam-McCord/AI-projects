{
 "cells": [
  {
   "cell_type": "code",
   "execution_count": 74,
   "metadata": {},
   "outputs": [
    {
     "data": {
      "text/plain": [
       "Country/Organization of UN Registry  CRegistry_code\n",
       "USA                                  42                423\n",
       "NR                                   29                394\n",
       "Russia                               35                126\n",
       "China                                11                112\n",
       "France                               16                 66\n",
       "Japan                                24                 49\n",
       "United Kingdom                       44                 41\n",
       "India                                20                 29\n",
       "Germany                              17                 22\n",
       "Luxembourg                           26                 19\n",
       "ESA                                  13                 16\n",
       "Canada                               9                  15\n",
       "Brazil                               8                  11\n",
       "Saudi Arabia                         36                 11\n",
       "South Korea                          37                 10\n",
       "United Arab Emirates                 43                  6\n",
       "Norway                               31                  6\n",
       "Australia                            2                   6\n",
       "Italy                                23                  6\n",
       "EUMETSAT                             14                  6\n",
       "Indonesia                            21                  4\n",
       "Malaysia                             27                  4\n",
       "Spain                                38                  4\n",
       "Argentina                            1                   3\n",
       "Mexico                               28                  3\n",
       "Turkey                               41                  3\n",
       "Belgium                              6                   2\n",
       "Germany/USA                          18                  2\n",
       "Sweden                               39                  2\n",
       "Nigeria                              30                  2\n",
       "Poland                               34                  1\n",
       "Thailand                             40                  1\n",
       "Venezuela                            45                  1\n",
       "Algeria                              0                   1\n",
       "Philippines                          33                  1\n",
       "Pakistan                             32                  1\n",
       "Kazakhstan                           25                  1\n",
       "Iraq                                 22                  1\n",
       "Greece                               19                  1\n",
       "EUMETSAT/ESA                         15                  1\n",
       "China/Sri Lanka                      12                  1\n",
       "Chile                                10                  1\n",
       "Bolivia                              7                   1\n",
       "Belarus                              5                   1\n",
       "Azerbaijan                           4                   1\n",
       "Austria                              3                   1\n",
       "Venezuela/China                      46                  1\n",
       "dtype: int64"
      ]
     },
     "execution_count": 74,
     "metadata": {},
     "output_type": "execute_result"
    }
   ],
   "source": [
    "#Starting imports\n",
    "import matplotlib.pyplot as plt\n",
    "import numpy as np\n",
    "from sklearn import datasets, linear_model\n",
    "from sklearn.metrics import mean_squared_error, r2_score\n",
    "import pandas as pd\n",
    "from sklearn.linear_model import LogisticRegression\n",
    "import io\n",
    "%matplotlib inline\n",
    "import matplotlib.pyplot as plt\n",
    "import seaborn as sns; sns.set()\n",
    "from sklearn import preprocessing\n",
    "plt.rc(\"font\", size = 14)\n",
    "from sklearn.linear_model import LogisticRegression\n",
    "from sklearn.model_selection import train_test_split\n",
    "sns.set(style=\"white\")\n",
    "sns.set(style=\"whitegrid\", color_codes = True)\n",
    "\n",
    "\n",
    "#Create initial dataframe\n",
    "fulldataframe = pd.read_csv(\"satellitedata.csv\")\n",
    "\n",
    "#Drop unimportant info for now\n",
    "fulldataframe =fulldataframe.drop(['Longitude of Geosynchronous Orbit (Degrees)', 'COSPAR Number', 'NORAD Number', 'Launch Mass (Kilograms)', 'Detailed Purpose', 'Type of Orbit', 'Power (Watts)', 'Launch Site', 'Launch Vehicle'], axis = 1)\n",
    "\n",
    "trainset, testset = train_test_split(fulldataframe, test_size=0.2)\n",
    "\n",
    "combine = [trainset] + [testset]\n",
    "\n",
    "\n",
    "\n",
    "fulldataframe['CRegistry_code'] = pd.Categorical(fulldataframe['Country/Organization of UN Registry']).codes\n",
    "fulldataframe[['Country/Organization of UN Registry', 'CRegistry_code']]\n",
    "fulldataframe.value_counts(['Country/Organization of UN Registry', 'CRegistry_code'])"
   ]
  }
 ],
 "metadata": {
  "kernelspec": {
   "display_name": "Python 3.10.4 64-bit",
   "language": "python",
   "name": "python3"
  },
  "language_info": {
   "codemirror_mode": {
    "name": "ipython",
    "version": 3
   },
   "file_extension": ".py",
   "mimetype": "text/x-python",
   "name": "python",
   "nbconvert_exporter": "python",
   "pygments_lexer": "ipython3",
   "version": "3.10.4"
  },
  "orig_nbformat": 4,
  "vscode": {
   "interpreter": {
    "hash": "06d9aae523bc63cc17cc43596ea62c9a9e8e8ea07d66ece30aa55c658533814b"
   }
  }
 },
 "nbformat": 4,
 "nbformat_minor": 2
}
