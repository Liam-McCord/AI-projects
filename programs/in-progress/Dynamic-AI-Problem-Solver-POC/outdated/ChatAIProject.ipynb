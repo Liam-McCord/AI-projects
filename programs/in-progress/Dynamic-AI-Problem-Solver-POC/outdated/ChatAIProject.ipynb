{
 "cells": [
  {
   "cell_type": "code",
   "execution_count": 73,
   "metadata": {},
   "outputs": [],
   "source": [
    "import openai\n",
    "import chronological as ch\n",
    "import time\n",
    "\n",
    "openai.api_key = \"\" #Need key here\n",
    "model_engine = \"gpt-3.5-turbo\"\n",
    "\n"
   ]
  },
  {
   "cell_type": "code",
   "execution_count": 74,
   "metadata": {},
   "outputs": [],
   "source": [
    "possible_operations = [\"add_two_strings\", \"subtract_two_strings\", \"none_of_the_above\"]\n",
    "operation_prompt = \"\"\n",
    "for operation in possible_operations:\n",
    "    operation_prompt += operation"
   ]
  },
  {
   "cell_type": "code",
   "execution_count": 75,
   "metadata": {},
   "outputs": [],
   "source": [
    "        \n",
    "def respond_to_prompt(user_prompt, token_limit):\n",
    "    completion = openai.ChatCompletion.create(\n",
    "            \n",
    "        model= model_engine,\n",
    "        n = 1,\n",
    "        max_tokens = token_limit,\n",
    "        messages=[\n",
    "            {\"role\": \"user\", \"content\": user_prompt}\n",
    "        ]\n",
    "        )\n",
    "    return(completion)"
   ]
  },
  {
   "cell_type": "code",
   "execution_count": 76,
   "metadata": {},
   "outputs": [],
   "source": [
    "def find_the_function(function_name, prompt):\n",
    "    if function_name == possible_operations[0]:\n",
    "        strings_to_add = respond_to_prompt(f\"This is a function for adding strings. Based on the following prompt in brackets, write ONLY what you believe the two strings are, seperated by a space. ({prompt})\", 30).choices[0].message.content\n",
    "        add_two_strings(strings_to_add.split())\n",
    "    if function_name == possible_operations[2]:\n",
    "        make_a_program(prompt)\n",
    "# OPERATIONS:\n",
    "\n",
    "# Adds two strings:\n",
    "def add_two_strings(strings_to_add):\n",
    "    final_string = \"\"\n",
    "    for string in strings_to_add:\n",
    "        final_string += string\n",
    "    print(final_string)\n",
    "    \n",
    "def make_a_program(prompt):\n",
    "    proceed_check = input(\"Proceed with writing program? This may use a lot of tokens. y/n: \")\n",
    "    if proceed_check.lower() == \"y\":\n",
    "        generated_code = respond_to_prompt(f\"{prompt }Based on the prior prompt in brackets, create a python program. Do not explain anything outside of the program as your response will be run. If you must explain something, do it within code comments. The final printed value, if any, should be done within a sentence and formatted with the value.\", 400).choices[0].message.content\n",
    "        time.sleep(1)\n",
    "        print(generated_code)\n",
    "        proceed_check_2 = input(\"Run program? Please check if this program is safe to run first. y/n: \")\n",
    "        if proceed_check_2.lower() == \"y\":\n",
    "            exec(generated_code)\n",
    "        else:\n",
    "            return(\"Understood. Not running code.\")\n",
    "    else:\n",
    "        return(\"Understood. Not proceeding.\")"
   ]
  },
  {
   "cell_type": "code",
   "execution_count": 77,
   "metadata": {},
   "outputs": [
    {
     "name": "stdout",
     "output_type": "stream",
     "text": [
      "none_of_the_above\n",
      "print(9 * 5 * 100) # This will multiply 9, 5, and 100 and print the result, which is 4500.\n",
      "4500\n"
     ]
    }
   ],
   "source": [
    "cutoff_counter = 0\n",
    "while True:\n",
    "    if cutoff_counter > 3:\n",
    "        break\n",
    "    \n",
    "    current_prompt = input(\"Prompt: \")\n",
    "    if current_prompt.lower() == \"operation\":\n",
    "        current_prompt = input(\"Operation: \")\n",
    "        \n",
    "        response = respond_to_prompt(f\"User Prompt: ({current_prompt}). Based on the previous prompt in brackets, say only the function name that it is most likely to be: {operation_prompt}. DO NOT EXPLAIN WHY. Answer: \", 15).choices[0].message.content\n",
    "        print(response)\n",
    "        find_the_function(response, current_prompt)\n",
    "    elif current_prompt == \"break\" or current_prompt == \"stop\":\n",
    "        break\n",
    "    else:\n",
    "        response = respond_to_prompt(current_prompt).choices[0].message.content\n",
    "        print(response)\n",
    "    time.sleep(2)\n",
    "    cutoff_counter = cutoff_counter + 1"
   ]
  }
 ],
 "metadata": {
  "kernelspec": {
   "display_name": "Python 3",
   "language": "python",
   "name": "python3"
  },
  "language_info": {
   "codemirror_mode": {
    "name": "ipython",
    "version": 3
   },
   "file_extension": ".py",
   "mimetype": "text/x-python",
   "name": "python",
   "nbconvert_exporter": "python",
   "pygments_lexer": "ipython3",
   "version": "3.10.4"
  },
  "orig_nbformat": 4
 },
 "nbformat": 4,
 "nbformat_minor": 2
}
