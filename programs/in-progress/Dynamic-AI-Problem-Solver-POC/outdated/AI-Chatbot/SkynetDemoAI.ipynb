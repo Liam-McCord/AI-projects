{
 "cells": [
  {
   "cell_type": "code",
   "execution_count": 1,
   "metadata": {},
   "outputs": [],
   "source": [
    "import speech_recognition as sr"
   ]
  },
  {
   "cell_type": "code",
   "execution_count": 2,
   "metadata": {},
   "outputs": [],
   "source": [
    "import pyttsx3  \n",
    "# initialize Text-to-speech engine  \n",
    "engine = pyttsx3.init()  \n",
    "# convert this text to speech  \n"
   ]
  },
  {
   "cell_type": "code",
   "execution_count": 3,
   "metadata": {},
   "outputs": [],
   "source": [
    "import openai\n",
    "import chronological as ch\n",
    "import time\n",
    "import string\n",
    "\n",
    "openai.api_key = \"\" #PUT KEY HERE\n",
    "model_engine = \"gpt-4\""
   ]
  },
  {
   "cell_type": "code",
   "execution_count": 4,
   "metadata": {},
   "outputs": [],
   "source": [
    "possible_operations = [\"add_two_strings\", \"subtract_two_strings\", \"custom_function\"]\n",
    "operation_prompt = \"\"\n",
    "for operation in possible_operations:\n",
    "    operation_prompt += operation"
   ]
  },
  {
   "cell_type": "code",
   "execution_count": 5,
   "metadata": {},
   "outputs": [],
   "source": [
    "def speech_from_microphone(prompt):\n",
    "    r = sr.Recognizer()\n",
    "    with sr.Microphone() as source:\n",
    "        print(prompt)\n",
    "        audio = r.listen(source)\n",
    "\n",
    "    # Speech recognition from Whisper, OpenAI's speech recognition AI.\n",
    "    OPENAI_API_KEY = \"\" #PUT KEY HERE\n",
    "    try:\n",
    "        speech_to_text = (r.recognize_whisper_api(audio, api_key=OPENAI_API_KEY))\n",
    "        print(speech_to_text)\n",
    "        return(speech_to_text)\n",
    "    \n",
    "    except sr.RequestError as e:\n",
    "        print(\"Could not request results from Whisper API\")\n"
   ]
  },
  {
   "cell_type": "code",
   "execution_count": 6,
   "metadata": {},
   "outputs": [],
   "source": [
    "# This function sends prompts made by users to OpenAI's chat models, which then returns the answer.\n",
    "def respond_to_prompt(user_prompt, token_limit):\n",
    "    completion = openai.ChatCompletion.create(\n",
    "            \n",
    "        model= model_engine,\n",
    "        n = 1,\n",
    "        max_tokens = token_limit,\n",
    "        messages=[\n",
    "            {\"role\": \"user\", \"content\": user_prompt}\n",
    "        ]\n",
    "        )\n",
    "    return(completion)"
   ]
  },
  {
   "cell_type": "code",
   "execution_count": 7,
   "metadata": {},
   "outputs": [],
   "source": [
    "# Local text-to-speech function definition for simplicity\n",
    "def text_to_speech(text_to_speech):\n",
    "    text = text_to_speech  \n",
    "    engine.setProperty(\"rate\", 170)  \n",
    "    engine.say(text)  \n",
    "    # play the speech  \n",
    "    engine.runAndWait()  "
   ]
  },
  {
   "cell_type": "code",
   "execution_count": 8,
   "metadata": {},
   "outputs": [],
   "source": [
    "# Wake name and voice prompt triggers for certain functions:\n",
    "\n",
    "wake_name = \"skynet\" # You can change this to anything you want\n",
    "\n",
    "wake_name_formatting_list = [(f\"\\n{wake_name.capitalize()},\"),(f\"\\n{wake_name.capitalize()}.\"),(f\"\\n{wake_name.capitalize()}!\"),(f\"\\n{wake_name.capitalize()}?\")] # Wake words \n",
    "\n",
    "operation_name_formatting_list = [\"an operation\", \"a function\", \"run operation\", \"run function\", \"a program\", \"run program\"] # Operation words to switch into operation mode\n",
    "\n",
    "trigger = \"FSFDFSDGGRTEGTGEGGET\" # random text that wouldn't be in a prompt\n",
    "\n",
    "sleep_words = [\"sleep now\", \"turn off\", \"shut down\", \"power down\", \"power off\", \"go to sleep\", \"sleep mode\", \"hibernate\", \"i'll be back\"] # Sleep words to end the program\n",
    "\n",
    "continue_words = [\"yes\", \"affirmative\", \"correct\"] # Confirming words for steps that need them."
   ]
  },
  {
   "cell_type": "code",
   "execution_count": 9,
   "metadata": {},
   "outputs": [],
   "source": [
    "# Based on the function that the AI believes is the correct option to run, the corresponding function is chosen here.\n",
    "def find_the_function(function_name, prompt):\n",
    "    if function_name == possible_operations[0]:\n",
    "        strings_to_add = respond_to_prompt(f\"This is a function for adding strings. Based on the following prompt in brackets, write ONLY what you believe the two strings are, seperated by a space. ({prompt})\", 30).choices[0].message.content\n",
    "        add_two_strings(strings_to_add.split())\n",
    "    if function_name == possible_operations[2]:\n",
    "        make_a_program(prompt)\n",
    "\n",
    "# OPERATIONS:\n",
    "\n",
    "# Adds two strings:\n",
    "def add_two_strings(strings_to_add):\n",
    "    final_string = \"\"\n",
    "    for string in strings_to_add:\n",
    "        final_string += string\n",
    "    print(final_string)\n",
    "\n",
    "# Custom program creator that is used when no other premade functions are found for the needed purpose. Several steps need to be confirmed by the user as the produced code runs directly on the computer.\n",
    "def make_a_program(prompt):\n",
    "    text_to_speech(\"Write a custom program? This may use a lot of tokens.\")\n",
    "    check_if_proceed = speech_from_microphone(\"Write a custom program? This may use a lot of tokens. \")\n",
    "    if any(confirm_statement in check_if_proceed.lower() for confirm_statement in continue_words):\n",
    "        print(f\"\\n{wake_name.capitalize()}: Writing a program.\")\n",
    "        text_to_speech(\"Writing a program.\")\n",
    "        generated_code = respond_to_prompt(f\"{prompt }Based on the prior prompt in brackets, create a python program. Do not explain anything outside of the program as your response will be run directly in python. Your response is only the interior code, do not use ` marks. Import any packages you need.\", 400).choices[0].message.content\n",
    "        time.sleep(1)\n",
    "        print(generated_code)\n",
    "        print(f\"\\n{wake_name.capitalize()}: The program is finished. Please check if this program is safe to run first.\")\n",
    "        text_to_speech(\"The program is finished. Please check if this program is safe to run first.\")\n",
    "        check_if_proceed = speech_from_microphone(\"\\nRun program? \")\n",
    "        if any(confirm_statement in check_if_proceed.lower() for confirm_statement in continue_words):\n",
    "            print(f\"\\n{wake_name.capitalize()}: Running the program now.\")\n",
    "            text_to_speech(\"Running the program now.\")\n",
    "            exec(generated_code)\n",
    "        else:\n",
    "            return(\"Understood. Not running code.\")\n",
    "    else:\n",
    "        return(\"Understood. Not proceeding.\")"
   ]
  },
  {
   "cell_type": "code",
   "execution_count": 10,
   "metadata": {},
   "outputs": [
    {
     "name": "stdout",
     "output_type": "stream",
     "text": [
      "\n",
      "Skynet is Listening...\n"
     ]
    },
    {
     "ename": "KeyboardInterrupt",
     "evalue": "",
     "output_type": "error",
     "traceback": [
      "\u001b[1;31m---------------------------------------------------------------------------\u001b[0m",
      "\u001b[1;31mKeyboardInterrupt\u001b[0m                         Traceback (most recent call last)",
      "\u001b[1;32mc:\\Users\\Liam McCord\\Documents\\University Of Canterbury\\Personal Projects\\ai programs\\github\\programs\\in-progress\\Dynamic-AI-Problem-Solver-POC\\outdated\\AI-Chatbot\\SkynetDemoAI.ipynb Cell 10\u001b[0m in \u001b[0;36m1\n\u001b[0;32m      <a href='vscode-notebook-cell:/c%3A/Users/Liam%20McCord/Documents/University%20Of%20Canterbury/Personal%20Projects/ai%20programs/github/programs/in-progress/Dynamic-AI-Problem-Solver-POC/outdated/AI-Chatbot/SkynetDemoAI.ipynb#X12sZmlsZQ%3D%3D?line=6'>7</a>\u001b[0m     text_to_speech(\u001b[39m\"\u001b[39m\u001b[39mGoing into idle mode now.\u001b[39m\u001b[39m\"\u001b[39m)\n\u001b[0;32m      <a href='vscode-notebook-cell:/c%3A/Users/Liam%20McCord/Documents/University%20Of%20Canterbury/Personal%20Projects/ai%20programs/github/programs/in-progress/Dynamic-AI-Problem-Solver-POC/outdated/AI-Chatbot/SkynetDemoAI.ipynb#X12sZmlsZQ%3D%3D?line=7'>8</a>\u001b[0m     \u001b[39minput\u001b[39m(\u001b[39mf\u001b[39m\u001b[39m\"\u001b[39m\u001b[39m\\n\u001b[39;00m\u001b[39m{\u001b[39;00mwake_name\u001b[39m.\u001b[39mcapitalize()\u001b[39m}\u001b[39;00m\u001b[39m: Press any button to wake.\u001b[39m\u001b[39m\"\u001b[39m)\n\u001b[1;32m---> <a href='vscode-notebook-cell:/c%3A/Users/Liam%20McCord/Documents/University%20Of%20Canterbury/Personal%20Projects/ai%20programs/github/programs/in-progress/Dynamic-AI-Problem-Solver-POC/outdated/AI-Chatbot/SkynetDemoAI.ipynb#X12sZmlsZQ%3D%3D?line=9'>10</a>\u001b[0m voice_command \u001b[39m=\u001b[39m speech_from_microphone(\u001b[39mf\u001b[39;49m\u001b[39m\"\u001b[39;49m\u001b[39m\\n\u001b[39;49;00m\u001b[39m{\u001b[39;49;00mwake_name\u001b[39m.\u001b[39;49mcapitalize()\u001b[39m}\u001b[39;49;00m\u001b[39m is Listening...\u001b[39;49m\u001b[39m\"\u001b[39;49m)\n\u001b[0;32m     <a href='vscode-notebook-cell:/c%3A/Users/Liam%20McCord/Documents/University%20Of%20Canterbury/Personal%20Projects/ai%20programs/github/programs/in-progress/Dynamic-AI-Problem-Solver-POC/outdated/AI-Chatbot/SkynetDemoAI.ipynb#X12sZmlsZQ%3D%3D?line=10'>11</a>\u001b[0m \u001b[39mif\u001b[39;00m \u001b[39mf\u001b[39m\u001b[39m\"\u001b[39m\u001b[39m{\u001b[39;00mwake_name\u001b[39m}\u001b[39;00m\u001b[39m\"\u001b[39m \u001b[39min\u001b[39;00m voice_command\u001b[39m.\u001b[39mlower():\n\u001b[0;32m     <a href='vscode-notebook-cell:/c%3A/Users/Liam%20McCord/Documents/University%20Of%20Canterbury/Personal%20Projects/ai%20programs/github/programs/in-progress/Dynamic-AI-Problem-Solver-POC/outdated/AI-Chatbot/SkynetDemoAI.ipynb#X12sZmlsZQ%3D%3D?line=11'>12</a>\u001b[0m     \u001b[39mbreak\u001b[39;00m\n",
      "\u001b[1;32mc:\\Users\\Liam McCord\\Documents\\University Of Canterbury\\Personal Projects\\ai programs\\github\\programs\\in-progress\\Dynamic-AI-Problem-Solver-POC\\outdated\\AI-Chatbot\\SkynetDemoAI.ipynb Cell 10\u001b[0m in \u001b[0;36m5\n\u001b[0;32m      <a href='vscode-notebook-cell:/c%3A/Users/Liam%20McCord/Documents/University%20Of%20Canterbury/Personal%20Projects/ai%20programs/github/programs/in-progress/Dynamic-AI-Problem-Solver-POC/outdated/AI-Chatbot/SkynetDemoAI.ipynb#X12sZmlsZQ%3D%3D?line=2'>3</a>\u001b[0m \u001b[39mwith\u001b[39;00m sr\u001b[39m.\u001b[39mMicrophone() \u001b[39mas\u001b[39;00m source:\n\u001b[0;32m      <a href='vscode-notebook-cell:/c%3A/Users/Liam%20McCord/Documents/University%20Of%20Canterbury/Personal%20Projects/ai%20programs/github/programs/in-progress/Dynamic-AI-Problem-Solver-POC/outdated/AI-Chatbot/SkynetDemoAI.ipynb#X12sZmlsZQ%3D%3D?line=3'>4</a>\u001b[0m     \u001b[39mprint\u001b[39m(prompt)\n\u001b[1;32m----> <a href='vscode-notebook-cell:/c%3A/Users/Liam%20McCord/Documents/University%20Of%20Canterbury/Personal%20Projects/ai%20programs/github/programs/in-progress/Dynamic-AI-Problem-Solver-POC/outdated/AI-Chatbot/SkynetDemoAI.ipynb#X12sZmlsZQ%3D%3D?line=4'>5</a>\u001b[0m     audio \u001b[39m=\u001b[39m r\u001b[39m.\u001b[39;49mlisten(source)\n\u001b[0;32m      <a href='vscode-notebook-cell:/c%3A/Users/Liam%20McCord/Documents/University%20Of%20Canterbury/Personal%20Projects/ai%20programs/github/programs/in-progress/Dynamic-AI-Problem-Solver-POC/outdated/AI-Chatbot/SkynetDemoAI.ipynb#X12sZmlsZQ%3D%3D?line=6'>7</a>\u001b[0m \u001b[39m# Speech recognition from Whisper, OpenAI's speech recognition AI.\u001b[39;00m\n\u001b[0;32m      <a href='vscode-notebook-cell:/c%3A/Users/Liam%20McCord/Documents/University%20Of%20Canterbury/Personal%20Projects/ai%20programs/github/programs/in-progress/Dynamic-AI-Problem-Solver-POC/outdated/AI-Chatbot/SkynetDemoAI.ipynb#X12sZmlsZQ%3D%3D?line=7'>8</a>\u001b[0m OPENAI_API_KEY \u001b[39m=\u001b[39m \u001b[39m\"\u001b[39m\u001b[39m\"\u001b[39m \u001b[39m#PUT KEY HERE\u001b[39;00m\n",
      "File \u001b[1;32mc:\\Users\\Liam McCord\\AppData\\Local\\Programs\\Python\\Python310\\lib\\site-packages\\speech_recognition\\__init__.py:491\u001b[0m, in \u001b[0;36mRecognizer.listen\u001b[1;34m(self, source, timeout, phrase_time_limit, snowboy_configuration)\u001b[0m\n\u001b[0;32m    488\u001b[0m \u001b[39mif\u001b[39;00m timeout \u001b[39mand\u001b[39;00m elapsed_time \u001b[39m>\u001b[39m timeout:\n\u001b[0;32m    489\u001b[0m     \u001b[39mraise\u001b[39;00m WaitTimeoutError(\u001b[39m\"\u001b[39m\u001b[39mlistening timed out while waiting for phrase to start\u001b[39m\u001b[39m\"\u001b[39m)\n\u001b[1;32m--> 491\u001b[0m buffer \u001b[39m=\u001b[39m source\u001b[39m.\u001b[39;49mstream\u001b[39m.\u001b[39;49mread(source\u001b[39m.\u001b[39;49mCHUNK)\n\u001b[0;32m    492\u001b[0m \u001b[39mif\u001b[39;00m \u001b[39mlen\u001b[39m(buffer) \u001b[39m==\u001b[39m \u001b[39m0\u001b[39m: \u001b[39mbreak\u001b[39;00m  \u001b[39m# reached end of the stream\u001b[39;00m\n\u001b[0;32m    493\u001b[0m frames\u001b[39m.\u001b[39mappend(buffer)\n",
      "File \u001b[1;32mc:\\Users\\Liam McCord\\AppData\\Local\\Programs\\Python\\Python310\\lib\\site-packages\\speech_recognition\\__init__.py:199\u001b[0m, in \u001b[0;36mMicrophone.MicrophoneStream.read\u001b[1;34m(self, size)\u001b[0m\n\u001b[0;32m    198\u001b[0m \u001b[39mdef\u001b[39;00m \u001b[39mread\u001b[39m(\u001b[39mself\u001b[39m, size):\n\u001b[1;32m--> 199\u001b[0m     \u001b[39mreturn\u001b[39;00m \u001b[39mself\u001b[39;49m\u001b[39m.\u001b[39;49mpyaudio_stream\u001b[39m.\u001b[39;49mread(size, exception_on_overflow\u001b[39m=\u001b[39;49m\u001b[39mFalse\u001b[39;49;00m)\n",
      "File \u001b[1;32mc:\\Users\\Liam McCord\\AppData\\Local\\Programs\\Python\\Python310\\lib\\site-packages\\pyaudio\\__init__.py:570\u001b[0m, in \u001b[0;36mPyAudio.Stream.read\u001b[1;34m(self, num_frames, exception_on_overflow)\u001b[0m\n\u001b[0;32m    567\u001b[0m \u001b[39mif\u001b[39;00m \u001b[39mnot\u001b[39;00m \u001b[39mself\u001b[39m\u001b[39m.\u001b[39m_is_input:\n\u001b[0;32m    568\u001b[0m     \u001b[39mraise\u001b[39;00m \u001b[39mIOError\u001b[39;00m(\u001b[39m\"\u001b[39m\u001b[39mNot input stream\u001b[39m\u001b[39m\"\u001b[39m,\n\u001b[0;32m    569\u001b[0m                   paCanNotReadFromAnOutputOnlyStream)\n\u001b[1;32m--> 570\u001b[0m \u001b[39mreturn\u001b[39;00m pa\u001b[39m.\u001b[39;49mread_stream(\u001b[39mself\u001b[39;49m\u001b[39m.\u001b[39;49m_stream, num_frames,\n\u001b[0;32m    571\u001b[0m                       exception_on_overflow)\n",
      "\u001b[1;31mKeyboardInterrupt\u001b[0m: "
     ]
    }
   ],
   "source": [
    "activated = True\n",
    "while activated == True:\n",
    "    sleep_timer = 0\n",
    "    while True:\n",
    "        if sleep_timer > 15:\n",
    "            print()\n",
    "            text_to_speech(\"Going into idle mode now.\")\n",
    "            input(f\"\\n{wake_name.capitalize()}: Press any button to wake.\")\n",
    "            \n",
    "        voice_command = speech_from_microphone(f\"\\n{wake_name.capitalize()} is Listening...\")\n",
    "        if f\"{wake_name}\" in voice_command.lower():\n",
    "            break\n",
    "        sleep_timer += 1   \n",
    "    if any(wake in voice_command.lower() for wake in wake_name_formatting_list):\n",
    "        voice_command_index = voice_command.lower().find(wake_name)\n",
    "        voice_command = voice_command[voice_command_index + 8:].capitalize()\n",
    "    else:\n",
    "        voice_command_index = voice_command.lower().find(wake_name)\n",
    "        voice_command = voice_command[voice_command_index + 7:].capitalize()\n",
    "    \n",
    "    if any(operation in voice_command.lower() for operation in operation_name_formatting_list):\n",
    "        for operation_trigger in operation_name_formatting_list:\n",
    "            if operation_trigger in voice_command.lower():\n",
    "                trigger = operation_trigger\n",
    "                trigger_len = len(trigger)\n",
    "        voice_command_operator_index = voice_command.lower().find(trigger)\n",
    "        voice_command_operation_trigger_length = voice_command[trigger_len:]\n",
    "        VC_temp = \"Run a function\" + voice_command_operation_trigger_length\n",
    "        voice_command = VC_temp\n",
    "        \n",
    "    if \"Run a function\" in voice_command:\n",
    "            print(f\"\\n{wake_name.capitalize()}: Finding your function.\")\n",
    "            text_to_speech(\"Finding your function.\")\n",
    "            response = respond_to_prompt(f\"User Prompt: ({voice_command}). Based on the previous prompt in brackets, say only the function name that it is most likely to be (with no punctuation): {operation_prompt}. DO NOT EXPLAIN WHY. Answer: \", 15).choices[0].message.content\n",
    "            print(f\"\\n{wake_name.capitalize()}: The function you are trying to run has been evaluated to most likely be: {response}. Is this the correct option?\")\n",
    "            text_to_speech(f\"The function you are trying to run has been evaluated to most likely be: {response}. Is this the correct option?\")\n",
    "            check_if_proceed = speech_from_microphone(\"Listening...\")\n",
    "            if any(confirm_statement in check_if_proceed.lower() for confirm_statement in continue_words):\n",
    "                print(f\"\\n{wake_name.capitalize()}: Proceeding with function {response}.\")\n",
    "                text_to_speech(f\"Proceeding with function {response}.\")\n",
    "                find_the_function(response, voice_command)\n",
    "    elif any(sleep_word in voice_command.lower() for sleep_word in sleep_words):\n",
    "        print(f\"\\n{wake_name.capitalize()}: Shutting down now.\")\n",
    "        text_to_speech(\"Shutting down now.\")\n",
    "        activated = False\n",
    "        break\n",
    "    elif \"voice help\" in voice_command.lower():\n",
    "        print(f\"\\n{wake_name.capitalize()}: Say the wake word, currently set to {wake_name}, to activate me. To run a function, please say create an operation or create a function, followed by the function's purpose. To confirm a command, say yes or affirmative.\")\n",
    "        text_to_speech(f\"Say the wake word, currently set to {wake_name}, to activate me. To run a function, please say create an operation or create a function, followed by the function's purpose. To confirm a command, say yes or affirmative.\")\n",
    "        \n",
    "    else:\n",
    "        response = respond_to_prompt(f\"{voice_command} You have a character limit of 300 unless specified otherwise in the sentence prior to this one.\", 1000).choices[0].message.content\n",
    "        print(f\"\\n{wake_name.capitalize()}: {response}\")\n",
    "        text_to_speech(response)\n",
    "    time.sleep(2)"
   ]
  }
 ],
 "metadata": {
  "kernelspec": {
   "display_name": "Python 3",
   "language": "python",
   "name": "python3"
  },
  "language_info": {
   "codemirror_mode": {
    "name": "ipython",
    "version": 3
   },
   "file_extension": ".py",
   "mimetype": "text/x-python",
   "name": "python",
   "nbconvert_exporter": "python",
   "pygments_lexer": "ipython3",
   "version": "3.10.4"
  },
  "orig_nbformat": 4
 },
 "nbformat": 4,
 "nbformat_minor": 2
}
