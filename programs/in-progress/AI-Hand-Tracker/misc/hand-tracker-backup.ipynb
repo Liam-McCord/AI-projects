{
 "cells": [
  {
   "cell_type": "code",
   "execution_count": 3,
   "metadata": {},
   "outputs": [
    {
     "ename": "NameError",
     "evalue": "name 'audio_classifier' is not defined",
     "output_type": "error",
     "traceback": [
      "\u001b[1;31m---------------------------------------------------------------------------\u001b[0m",
      "\u001b[1;31mNameError\u001b[0m                                 Traceback (most recent call last)",
      "\u001b[1;32mc:\\Users\\Liam McCord\\Documents\\Code\\Python\\hand-tracking\\hand-tracker-backup.ipynb Cell 1\u001b[0m in \u001b[0;36m2\n\u001b[0;32m      <a href='vscode-notebook-cell:/c%3A/Users/Liam%20McCord/Documents/Code/Python/hand-tracking/hand-tracker-backup.ipynb#W0sZmlsZQ%3D%3D?line=0'>1</a>\u001b[0m \u001b[39mimport\u001b[39;00m \u001b[39mcv2\u001b[39;00m\n\u001b[1;32m----> <a href='vscode-notebook-cell:/c%3A/Users/Liam%20McCord/Documents/Code/Python/hand-tracking/hand-tracker-backup.ipynb#W0sZmlsZQ%3D%3D?line=1'>2</a>\u001b[0m \u001b[39mimport\u001b[39;00m \u001b[39mmediapipe\u001b[39;00m \u001b[39mas\u001b[39;00m \u001b[39mmp\u001b[39;00m\n\u001b[0;32m      <a href='vscode-notebook-cell:/c%3A/Users/Liam%20McCord/Documents/Code/Python/hand-tracking/hand-tracker-backup.ipynb#W0sZmlsZQ%3D%3D?line=2'>3</a>\u001b[0m \u001b[39mimport\u001b[39;00m \u001b[39mnumpy\u001b[39;00m \u001b[39mas\u001b[39;00m \u001b[39mnp\u001b[39;00m\n\u001b[0;32m      <a href='vscode-notebook-cell:/c%3A/Users/Liam%20McCord/Documents/Code/Python/hand-tracking/hand-tracker-backup.ipynb#W0sZmlsZQ%3D%3D?line=3'>4</a>\u001b[0m \u001b[39mimport\u001b[39;00m \u001b[39mtime\u001b[39;00m\n",
      "File \u001b[1;32mc:\\Users\\Liam McCord\\AppData\\Local\\Programs\\Python\\Python310\\lib\\site-packages\\mediapipe\\__init__.py:17\u001b[0m\n\u001b[0;32m     15\u001b[0m \u001b[39mfrom\u001b[39;00m \u001b[39mmediapipe\u001b[39;00m\u001b[39m.\u001b[39;00m\u001b[39mpython\u001b[39;00m \u001b[39mimport\u001b[39;00m \u001b[39m*\u001b[39m\n\u001b[0;32m     16\u001b[0m \u001b[39mimport\u001b[39;00m \u001b[39mmediapipe\u001b[39;00m\u001b[39m.\u001b[39;00m\u001b[39mpython\u001b[39;00m\u001b[39m.\u001b[39;00m\u001b[39msolutions\u001b[39;00m \u001b[39mas\u001b[39;00m \u001b[39msolutions\u001b[39;00m \n\u001b[1;32m---> 17\u001b[0m \u001b[39mimport\u001b[39;00m \u001b[39mmediapipe\u001b[39;00m\u001b[39m.\u001b[39;00m\u001b[39mtasks\u001b[39;00m\u001b[39m.\u001b[39;00m\u001b[39mpython\u001b[39;00m \u001b[39mas\u001b[39;00m \u001b[39mtasks\u001b[39;00m\n\u001b[0;32m     20\u001b[0m \u001b[39mdel\u001b[39;00m framework\n\u001b[0;32m     21\u001b[0m \u001b[39mdel\u001b[39;00m gpu\n",
      "File \u001b[1;32mc:\\Users\\Liam McCord\\AppData\\Local\\Programs\\Python\\Python310\\lib\\site-packages\\mediapipe\\tasks\\python\\__init__.py:17\u001b[0m\n\u001b[0;32m      1\u001b[0m \u001b[39m# Copyright 2022 The MediaPipe Authors.\u001b[39;00m\n\u001b[0;32m      2\u001b[0m \u001b[39m#\u001b[39;00m\n\u001b[0;32m      3\u001b[0m \u001b[39m# Licensed under the Apache License, Version 2.0 (the \"License\");\u001b[39;00m\n\u001b[1;32m   (...)\u001b[0m\n\u001b[0;32m     12\u001b[0m \u001b[39m# See the License for the specific language governing permissions and\u001b[39;00m\n\u001b[0;32m     13\u001b[0m \u001b[39m# limitations under the License.\u001b[39;00m\n\u001b[0;32m     15\u001b[0m \u001b[39m\"\"\"MediaPipe Tasks API.\"\"\"\u001b[39;00m\n\u001b[1;32m---> 17\u001b[0m \u001b[39mfrom\u001b[39;00m \u001b[39m.\u001b[39;00m \u001b[39mimport\u001b[39;00m audio\n\u001b[0;32m     18\u001b[0m \u001b[39mfrom\u001b[39;00m \u001b[39m.\u001b[39;00m \u001b[39mimport\u001b[39;00m components\n\u001b[0;32m     19\u001b[0m \u001b[39mfrom\u001b[39;00m \u001b[39m.\u001b[39;00m \u001b[39mimport\u001b[39;00m core\n",
      "File \u001b[1;32mc:\\Users\\Liam McCord\\AppData\\Local\\Programs\\Python\\Python310\\lib\\site-packages\\mediapipe\\tasks\\python\\audio\\__init__.py:21\u001b[0m\n\u001b[0;32m     18\u001b[0m \u001b[39mimport\u001b[39;00m \u001b[39mmediapipe\u001b[39;00m\u001b[39m.\u001b[39;00m\u001b[39mtasks\u001b[39;00m\u001b[39m.\u001b[39;00m\u001b[39mpython\u001b[39;00m\u001b[39m.\u001b[39;00m\u001b[39maudio\u001b[39;00m\u001b[39m.\u001b[39;00m\u001b[39maudio_classifier\u001b[39;00m\n\u001b[0;32m     19\u001b[0m \u001b[39mimport\u001b[39;00m \u001b[39mmediapipe\u001b[39;00m\u001b[39m.\u001b[39;00m\u001b[39mtasks\u001b[39;00m\u001b[39m.\u001b[39;00m\u001b[39mpython\u001b[39;00m\u001b[39m.\u001b[39;00m\u001b[39maudio\u001b[39;00m\u001b[39m.\u001b[39;00m\u001b[39maudio_embedder\u001b[39;00m\n\u001b[1;32m---> 21\u001b[0m AudioClassifier \u001b[39m=\u001b[39m audio_classifier\u001b[39m.\u001b[39mAudioClassifier\n\u001b[0;32m     22\u001b[0m AudioClassifierOptions \u001b[39m=\u001b[39m audio_classifier\u001b[39m.\u001b[39mAudioClassifierOptions\n\u001b[0;32m     23\u001b[0m AudioClassifierResult \u001b[39m=\u001b[39m audio_classifier\u001b[39m.\u001b[39mAudioClassifierResult\n",
      "\u001b[1;31mNameError\u001b[0m: name 'audio_classifier' is not defined"
     ]
    }
   ],
   "source": [
    "import cv2\n",
    "import mediapipe as mp\n",
    "import numpy as np\n",
    "import time\n",
    "\n",
    "#import math\n",
    "cap = cv2.VideoCapture(0)\n",
    "\n",
    "mpHands = mp.solutions.hands\n",
    "hands = mpHands.Hands()\n",
    "\n",
    "mpDraw = mp.solutions.drawing_utils"
   ]
  },
  {
   "cell_type": "code",
   "execution_count": null,
   "metadata": {},
   "outputs": [],
   "source": [
    "import socket\n",
    "from threading import Timer"
   ]
  },
  {
   "cell_type": "code",
   "execution_count": null,
   "metadata": {},
   "outputs": [
    {
     "name": "stdout",
     "output_type": "stream",
     "text": [
      "Server is now running.\n"
     ]
    }
   ],
   "source": [
    "s = socket.socket(socket.AF_INET, socket.SOCK_STREAM)\n",
    "s.bind(('',5000))\n",
    "s.listen(5)\n",
    "print('Server is now running.')\n",
    "\n"
   ]
  },
  {
   "cell_type": "code",
   "execution_count": null,
   "metadata": {},
   "outputs": [
    {
     "name": "stdout",
     "output_type": "stream",
     "text": [
      "[0. 0. 0.]\n"
     ]
    }
   ],
   "source": [
    "pTime = 0\n",
    "cTime = 0\n",
    "x_pos = 0\n",
    "y_pos = 0\n",
    "sep = 0\n",
    "loop_counter = 0\n",
    "\n",
    "finger_positions = np.zeros(shape=(22,3))\n",
    "print(finger_positions[0])"
   ]
  },
  {
   "cell_type": "code",
   "execution_count": null,
   "metadata": {},
   "outputs": [],
   "source": [
    "class PointCoordinates:\n",
    "    def __init__(self, x, y):\n",
    "        self.x = x\n",
    "        self.y = y\n",
    "    def middle_point(self, other):\n",
    "        S_O_X_Middle = (self.x + other.x) / 2\n",
    "        S_O_Y_Middle = (self.y + other.y) / 2\n",
    "        return(S_O_X_Middle, S_O_Y_Middle)\n",
    "        \n",
    "    def point_seperation(self, other):\n",
    "        S_O_X_Separation = self.x - other.x\n",
    "        S_O_Y_Separation = self.y - other.y\n",
    "        S_O_Separation = (((S_O_X_Separation ** 2) + (S_O_Y_Separation ** 2))) ** 0.5\n",
    "        return(S_O_Separation)\n",
    "finger_tops = [4, 8, 12, 16, 20]\n",
    "finger_bottoms = [2, 6, 10, 14, 18]"
   ]
  },
  {
   "cell_type": "code",
   "execution_count": null,
   "metadata": {},
   "outputs": [],
   "source": []
  },
  {
   "attachments": {},
   "cell_type": "markdown",
   "metadata": {},
   "source": [
    "To finish the code, the values from this program need to be written to a CSV file and read simultaneously by another python program as the PC has issues sending through data to the pi as well as doing the motion capture. open file or pandas should do the trick. Also Blue Lobster."
   ]
  },
  {
   "cell_type": "code",
   "execution_count": null,
   "metadata": {},
   "outputs": [
    {
     "name": "stdout",
     "output_type": "stream",
     "text": [
      "1\n",
      "2\n",
      "3\n",
      "4\n",
      "5\n",
      "6\n",
      "7\n",
      "8\n",
      "9\n",
      "10\n",
      "11\n",
      "12\n",
      "13\n",
      "14\n",
      "15\n",
      "16\n",
      "17\n",
      "18\n",
      "19\n",
      "20\n",
      "21\n",
      "22\n",
      "23\n",
      "24\n",
      "25\n",
      "26\n",
      "27\n",
      "28\n",
      "29\n",
      "30\n",
      "31\n",
      "32\n",
      "33\n",
      "34\n",
      "35\n",
      "36\n",
      "37\n",
      "38\n",
      "39\n",
      "40\n",
      "41\n",
      "42\n",
      "43\n",
      "44\n",
      "45\n",
      "46\n",
      "47\n",
      "48\n",
      "49\n",
      "50\n",
      "51\n",
      "52\n",
      "53\n",
      "54\n",
      "55\n",
      "56\n",
      "57\n",
      "58\n",
      "59\n",
      "60\n",
      "61\n",
      "62\n",
      "63\n",
      "64\n",
      "65\n",
      "66\n",
      "67\n",
      "68\n",
      "69\n",
      "70\n",
      "71\n",
      "72\n",
      "73\n",
      "74\n",
      "75\n",
      "76\n",
      "77\n",
      "78\n",
      "79\n",
      "80\n",
      "81\n",
      "82\n",
      "83\n",
      "84\n",
      "85\n",
      "86\n",
      "87\n",
      "88\n",
      "89\n",
      "90\n",
      "91\n",
      "92\n",
      "93\n",
      "94\n",
      "95\n",
      "96\n",
      "97\n",
      "98\n",
      "99\n",
      "100\n"
     ]
    },
    {
     "ename": "KeyboardInterrupt",
     "evalue": "",
     "output_type": "error",
     "traceback": [
      "\u001b[1;31m---------------------------------------------------------------------------\u001b[0m",
      "\u001b[1;31mKeyboardInterrupt\u001b[0m                         Traceback (most recent call last)",
      "\u001b[1;32mc:\\Users\\Liam McCord\\Documents\\Code\\Python\\hand-tracking\\robotic-hand-controller\\hand-tracker.ipynb Cell 8\u001b[0m in \u001b[0;36m5\n\u001b[0;32m     <a href='vscode-notebook-cell:/c%3A/Users/Liam%20McCord/Documents/Code/Python/hand-tracking/robotic-hand-controller/hand-tracker.ipynb#X10sZmlsZQ%3D%3D?line=51'>52</a>\u001b[0m \u001b[39mprint\u001b[39m(loop_counter)\n\u001b[0;32m     <a href='vscode-notebook-cell:/c%3A/Users/Liam%20McCord/Documents/Code/Python/hand-tracking/robotic-hand-controller/hand-tracker.ipynb#X10sZmlsZQ%3D%3D?line=52'>53</a>\u001b[0m cv2\u001b[39m.\u001b[39mimshow(\u001b[39m\"\u001b[39m\u001b[39mImage\u001b[39m\u001b[39m\"\u001b[39m, img)\n\u001b[1;32m---> <a href='vscode-notebook-cell:/c%3A/Users/Liam%20McCord/Documents/Code/Python/hand-tracking/robotic-hand-controller/hand-tracker.ipynb#X10sZmlsZQ%3D%3D?line=53'>54</a>\u001b[0m cv2\u001b[39m.\u001b[39;49mwaitKey(\u001b[39m1\u001b[39;49m)\n",
      "\u001b[1;31mKeyboardInterrupt\u001b[0m: "
     ]
    }
   ],
   "source": [
    "while True:\n",
    "    success, img = cap.read()\n",
    "    imgRGB = cv2.cvtColor(img, cv2.COLOR_BGR2RGB)\n",
    "    results = hands.process(imgRGB)\n",
    "    \n",
    "    if loop_counter % 5 == 0:\n",
    "        \n",
    "    \n",
    "    for finger in range(0, len(finger_tops)):\n",
    "        finger_1 = finger_positions[finger_tops[finger]][0], finger_positions[finger_tops[finger]][1]\n",
    "        finger_2 = finger_positions[finger_bottoms[finger]][0], finger_positions[finger_bottoms[finger]][1]\n",
    "        \n",
    "        point_1 = PointCoordinates(finger_1[0], finger_1[1])\n",
    "        point_2 = PointCoordinates(finger_2[0], finger_2[1])\n",
    "        \n",
    "        cv2.putText(img, f\"({x_pos}, {y_pos}), Sep = ({sep:.2f})\", (int(x_pos), int(y_pos)), cv2.FONT_HERSHEY_PLAIN, 1,\n",
    "            (255, 0, 255), 1) \n",
    "\n",
    "        cv2.line(img, (int(point_1.x), int(point_1.y)), (int(point_2.x), int(point_2.y)), (0, 255, 0), thickness=2)\n",
    "        x_pos, y_pos = PointCoordinates.middle_point(point_1, point_2)\n",
    "        sep = PointCoordinates.point_seperation(point_1, point_2)\n",
    "        if sep < 70:\n",
    "            cv2.circle(img, (int(x_pos), int(y_pos)), 15, (255, 0, 0), cv2.FILLED)    \n",
    "        \n",
    "        \n",
    "            \n",
    "    if results.multi_hand_landmarks:\n",
    "        for handLms in results.multi_hand_landmarks:\n",
    "            \n",
    "            #print(temp_data_gathering)\n",
    "            for id, lm in enumerate(handLms.landmark):\n",
    "                # Goes through the individual fingers?\n",
    "                \n",
    "                # print(id, lm)\n",
    "                h, w, c = img.shape\n",
    "                cx, cy = int(lm.x * w), int(lm.y * h)\n",
    "                  #print(id, cx, cy\n",
    "                  \n",
    "                for point in range(0,22):\n",
    "                    if point == id:\n",
    "                        finger_positions[id][0] = cx\n",
    "                        finger_positions[id][1] = cy\n",
    "            mpDraw.draw_landmarks(img, handLms, mpHands.HAND_CONNECTIONS)\n",
    "\n",
    "    cTime = time.time()\n",
    "    fps = 1 / (cTime - pTime)\n",
    "    pTime = cTime\n",
    "\n",
    "    cv2.putText(img, str(int(fps)), (10, 70), cv2.FONT_HERSHEY_PLAIN, 3,\n",
    "                (255, 0, 255), 3)\n",
    "    #cv2.putText(img, f\"Ball Coords (x,y,z): ({x_sep}, {int(finger_positions[0][1])}\", (10, 450), cv2.FONT_HERSHEY_PLAIN, 1,\n",
    "    #           (255, 0, 255), 1)\n",
    "    loop_counter += 1\n",
    "    print(loop_counter)\n",
    "    cv2.imshow(\"Image\", img)\n",
    "    cv2.waitKey(1)\n",
    "    "
   ]
  }
 ],
 "metadata": {
  "kernelspec": {
   "display_name": "Python 3",
   "language": "python",
   "name": "python3"
  },
  "language_info": {
   "codemirror_mode": {
    "name": "ipython",
    "version": 3
   },
   "file_extension": ".py",
   "mimetype": "text/x-python",
   "name": "python",
   "nbconvert_exporter": "python",
   "pygments_lexer": "ipython3",
   "version": "3.10.4"
  },
  "orig_nbformat": 4
 },
 "nbformat": 4,
 "nbformat_minor": 2
}
