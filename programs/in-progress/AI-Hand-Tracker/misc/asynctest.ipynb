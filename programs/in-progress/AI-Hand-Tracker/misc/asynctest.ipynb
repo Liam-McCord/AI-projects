{
 "cells": [
  {
   "cell_type": "code",
   "execution_count": 15,
   "metadata": {},
   "outputs": [
    {
     "name": "stderr",
     "output_type": "stream",
     "text": [
      "C:\\Users\\Liam McCord\\AppData\\Local\\Temp\\ipykernel_42608\\3507635717.py:16: RuntimeWarning: coroutine 'the' was never awaited\n",
      "  asyncio.run(main(), the())\n",
      "RuntimeWarning: Enable tracemalloc to get the object allocation traceback\n",
      "C:\\Users\\Liam McCord\\AppData\\Local\\Temp\\ipykernel_42608\\3507635717.py:16: RuntimeWarning: coroutine 'main' was never awaited\n",
      "  asyncio.run(main(), the())\n",
      "RuntimeWarning: Enable tracemalloc to get the object allocation traceback\n"
     ]
    },
    {
     "ename": "TypeError",
     "evalue": "_patch_asyncio.<locals>.run() takes 1 positional argument but 2 were given",
     "output_type": "error",
     "traceback": [
      "\u001b[1;31m---------------------------------------------------------------------------\u001b[0m",
      "\u001b[1;31mTypeError\u001b[0m                                 Traceback (most recent call last)",
      "\u001b[1;32mc:\\Users\\Liam McCord\\Documents\\Code\\Python\\hand-tracking\\asynctest.ipynb Cell 1\u001b[0m in \u001b[0;36m1\n\u001b[0;32m     <a href='vscode-notebook-cell:/c%3A/Users/Liam%20McCord/Documents/Code/Python/hand-tracking/asynctest.ipynb#W0sZmlsZQ%3D%3D?line=12'>13</a>\u001b[0m     \u001b[39mawait\u001b[39;00m asyncio\u001b[39m.\u001b[39msleep(\u001b[39m1\u001b[39m)\n\u001b[0;32m     <a href='vscode-notebook-cell:/c%3A/Users/Liam%20McCord/Documents/Code/Python/hand-tracking/asynctest.ipynb#W0sZmlsZQ%3D%3D?line=13'>14</a>\u001b[0m     \u001b[39mprint\u001b[39m(\u001b[39m'\u001b[39m\u001b[39m... dog doin!\u001b[39m\u001b[39m'\u001b[39m)   \n\u001b[1;32m---> <a href='vscode-notebook-cell:/c%3A/Users/Liam%20McCord/Documents/Code/Python/hand-tracking/asynctest.ipynb#W0sZmlsZQ%3D%3D?line=15'>16</a>\u001b[0m asyncio\u001b[39m.\u001b[39;49mrun(main(), the())\n",
      "\u001b[1;31mTypeError\u001b[0m: _patch_asyncio.<locals>.run() takes 1 positional argument but 2 were given"
     ]
    }
   ],
   "source": [
    "import asyncio\n",
    "import nest_asyncio\n",
    "nest_asyncio.apply()\n",
    "\n",
    "\n",
    "async def main():\n",
    "    print('Hello ...')\n",
    "    await asyncio.sleep(1)\n",
    "    print('... World!')\n",
    "    \n",
    "async def the():\n",
    "    print('what the ...')\n",
    "    await asyncio.sleep(1)\n",
    "    print('... dog doin!')   \n",
    "\n",
    "asyncio.run(main())"
   ]
  },
  {
   "cell_type": "code",
   "execution_count": 16,
   "metadata": {},
   "outputs": [
    {
     "name": "stdout",
     "output_type": "stream",
     "text": [
      "Task A: Compute factorial(2), currently i=2...\n",
      "Task B: Compute factorial(3), currently i=2...\n",
      "Task C: Compute factorial(4), currently i=2...\n",
      "Task A: factorial(2) = 2\n",
      "Task B: Compute factorial(3), currently i=3...\n",
      "Task C: Compute factorial(4), currently i=3...\n",
      "Task B: factorial(3) = 6\n",
      "Task C: Compute factorial(4), currently i=4...\n",
      "Task C: factorial(4) = 24\n",
      "[2, 6, 24]\n"
     ]
    }
   ],
   "source": [
    "async def factorial(name, number):\n",
    "    f = 1\n",
    "    for i in range(2, number + 1):\n",
    "        print(f\"Task {name}: Compute factorial({number}), currently i={i}...\")\n",
    "        await asyncio.sleep(1)\n",
    "        f *= i\n",
    "    print(f\"Task {name}: factorial({number}) = {f}\")\n",
    "    return f\n",
    "\n",
    "async def main():\n",
    "    # Schedule three calls *concurrently*:\n",
    "    L = await asyncio.gather(\n",
    "        factorial(\"A\", 2),\n",
    "        factorial(\"B\", 3),\n",
    "        factorial(\"C\", 4),\n",
    "    )\n",
    "    print(L)\n",
    "\n",
    "asyncio.run(main())"
   ]
  }
 ],
 "metadata": {
  "kernelspec": {
   "display_name": "Python 3",
   "language": "python",
   "name": "python3"
  },
  "language_info": {
   "codemirror_mode": {
    "name": "ipython",
    "version": 3
   },
   "file_extension": ".py",
   "mimetype": "text/x-python",
   "name": "python",
   "nbconvert_exporter": "python",
   "pygments_lexer": "ipython3",
   "version": "3.10.4"
  },
  "orig_nbformat": 4
 },
 "nbformat": 4,
 "nbformat_minor": 2
}
